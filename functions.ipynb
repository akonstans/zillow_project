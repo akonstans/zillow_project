{
 "cells": [
  {
   "cell_type": "code",
   "execution_count": 4,
   "id": "a1bdd10e",
   "metadata": {},
   "outputs": [],
   "source": [
    "import wrangle as w\n",
    "import new_lib as nl\n",
    "import matplotlib.pyplot as plt\n",
    "import seaborn as sns\n",
    "import pandas as pd\n",
    "import numpy as np\n",
    "from scipy import stats\n",
    "from math import sqrt\n",
    "from sklearn.linear_model import LassoLars\n",
    "from sklearn.preprocessing import PolynomialFeatures\n",
    "from sklearn.linear_model import TweedieRegressor\n",
    "from sklearn.feature_selection import SelectKBest, f_regression, RFE\n",
    "from sklearn.linear_model import LinearRegression\n",
    "from sklearn.preprocessing import MinMaxScaler\n",
    "from sklearn.metrics import mean_squared_error, r2_score, explained_variance_score\n",
    "import warnings\n",
    "warnings.filterwarnings('ignore')"
   ]
  },
  {
   "cell_type": "code",
   "execution_count": 5,
   "id": "4df29e8d",
   "metadata": {},
   "outputs": [],
   "source": [
    "def select_kbest(X_train, y_train, stat_test, k_value):\n",
    "    f_selector = SelectKBest(stat_test, k = k_value)\n",
    "    f_selector.fit(X_train, y_train)\n",
    "    f_select_mask = f_selector.get_support()\n",
    "    return X_train.iloc[:,f_select_mask].head()"
   ]
  },
  {
   "cell_type": "code",
   "execution_count": null,
   "id": "61c258e9",
   "metadata": {},
   "outputs": [],
   "source": [
    "def rfe_ranks(f, X_train, y_train):\n",
    "    lm = LinearRegression(f)\n",
    "    rfe = RFE(lm, n_features_to_select = f)\n",
    "    rfe.fit(X_train, y_train)\n",
    "    ranks = rfe.ranking_\n",
    "    columns = train_scaled.columns.tolist()\n",
    "    feature_ranks = pd.DataFrame({'ranking': ranks, \n",
    "                              'feature': columns})\n",
    "    return feature_ranks.sort_values('ranking').reset_index().drop(columns = 'index')\n",
    "\n",
    "    \n"
   ]
  },
  {
   "cell_type": "code",
   "execution_count": 7,
   "id": "6c3d1842",
   "metadata": {},
   "outputs": [],
   "source": [
    "def corr_test():\n",
    "    for col in cont_var:\n",
    "        corr, p = stats.pearsonr(train_scaled[col], train['tax_value'])\n",
    "    print(f'The correlation between {col} and tax_value is: {corr}\\n')\n",
    "    # simple correlation test for all continuous variables"
   ]
  },
  {
   "cell_type": "code",
   "execution_count": 8,
   "id": "07522e5a",
   "metadata": {},
   "outputs": [],
   "source": [
    "def bed_plot():\n",
    "    sns.barplot(x='bedrooms', y='tax_value', data= train, palette = 'dark')\n",
    "    plt.xlabel('Bedrooms')\n",
    "    plt.ylabel('Home Value')\n",
    "    plt.title('Home Value by Bedroom Number')\n",
    "    "
   ]
  },
  {
   "cell_type": "code",
   "execution_count": 9,
   "id": "3a6f9055",
   "metadata": {},
   "outputs": [],
   "source": [
    "def bath_plot():\n",
    "    sns.barplot(x='bathrooms', y='tax_value', data=train, palette = 'pastel')\n",
    "    plt.xlabel('Bathrooms')\n",
    "    plt.ylabel('Home Values')\n",
    "    plt.title('Property Value by Number of Bathrooms')"
   ]
  },
  {
   "cell_type": "code",
   "execution_count": 11,
   "id": "65f070c0",
   "metadata": {},
   "outputs": [],
   "source": [
    "def county_plot():\n",
    "    sns.boxplot(x='fips', y='tax_value',data=zil, palette = ['darkorange', 'steelblue', 'forestgreen'])\n",
    "    plt.xlabel('FIPS Code')\n",
    "    plt.ylabel('Home Price')\n",
    "    plt.title('Home Price by Federal County')\n",
    "    plt.show()\n",
    "# Finding home price by county and comparing them"
   ]
  },
  {
   "cell_type": "code",
   "execution_count": 12,
   "id": "3f1a0fce",
   "metadata": {},
   "outputs": [],
   "source": [
    "def hist_plot():\n",
    "    la = train[train['fips']==6037]['tax_value']\n",
    "    orange = train[train['fips']==6059]['tax_value']\n",
    "    ventura = train[train['fips']==6111]['tax_value']\n",
    "    plt.hist(x = la, color = 'gold', alpha = .4, edgecolor = 'black', label = 'Los Angeles')\n",
    "    plt.hist(x = orange, color = 'darkorange', alpha = .5, edgecolor = 'black', label = 'Orange')\n",
    "    plt.hist(x = ventura, color = 'mediumblue', alpha = .5, edgecolor = 'black', label = 'Ventura')\n",
    "    plt.xlabel('Home Value')\n",
    "    plt.ylabel('Properties')\n",
    "    plt.title('Property Values By County')\n",
    "    plt.legend()\n",
    "    plt.show()\n",
    "# Layering previous histograms to get a better image of average home value\n",
    "# Found the county name for each fips id and now want to look at the distribution of the fips home values"
   ]
  },
  {
   "cell_type": "code",
   "execution_count": 14,
   "id": "c51789fd",
   "metadata": {},
   "outputs": [],
   "source": [
    "def sqr_ft():\n",
    "    sns.regplot(x='square_footage', y='tax_value', data=train.sample(2000), line_kws={'color':'orange'})\n",
    "    plt.xlabel('Square Feet')\n",
    "    plt.ylabel('Home Value')\n",
    "    plt.title('Property Value By Square Footage')\n",
    "    plt.show()\n",
    "# creating a regplot to show a regression line through a sample of 2000 to visualize relationship"
   ]
  },
  {
   "cell_type": "code",
   "execution_count": 16,
   "id": "ed098611",
   "metadata": {},
   "outputs": [],
   "source": [
    "def room_cnt(zil):\n",
    "    zil['room_count'] = zil['bedrooms'] + zil['bathrooms']\n",
    "    zil = zil.drop(columns = ['bedrooms', 'bathrooms'])\n",
    "    return zil"
   ]
  },
  {
   "cell_type": "code",
   "execution_count": 18,
   "id": "9a7f3cde",
   "metadata": {},
   "outputs": [],
   "source": [
    "def linear_regression(x, y):\n",
    "    lm = LinearRegression()\n",
    "    lm.fit(x, y)\n",
    "    lm_preds = lm.predict(x)\n",
    "    preds = pd.DataFrame({'actual':y,\n",
    "                      'baseline':y.mean(),\n",
    "                      'lm_preds':lm_preds})\n",
    "    return preds.head()\n",
    "\n",
    "# Setting up linear regression"
   ]
  },
  {
   "cell_type": "code",
   "execution_count": 19,
   "id": "2f6a59cb",
   "metadata": {},
   "outputs": [],
   "source": [
    "def assess(actual, predictions):\n",
    "    sqrt(mean_squared_error(actual, predictions))\n"
   ]
  },
  {
   "cell_type": "code",
   "execution_count": 20,
   "id": "51183ead",
   "metadata": {},
   "outputs": [],
   "source": [
    "def lasso_lars(x, y):\n",
    "    lasso = LassoLars(alpha = .1)\n",
    "    lasso.fit(x, y)\n",
    "    lasso_preds = lasso.predict(x)\n",
    "    preds = pd.DataFrame({'actual':y,\n",
    "                      'baseline':y.mean(),\n",
    "                      'lasso_preds':lasso_preds})\n",
    "    return preds.head()\n",
    "# Lasso Lars setup"
   ]
  },
  {
   "cell_type": "code",
   "execution_count": 22,
   "id": "e8502890",
   "metadata": {},
   "outputs": [],
   "source": [
    "def polynomial(x, y):\n",
    "    pol = PolynomialFeatures(degree=2)\n",
    "    pol.fit(x, y)\n",
    "    poly = pol.transform(x)\n",
    "    lin = LinearRegression()\n",
    "    lin.fit(poly, y)\n",
    "    poly_preds = lin.predict(poly)\n",
    "    preds = pd.DataFrame({'actual':y,\n",
    "                      'baseline':y.mean(),\n",
    "                      'poly_preds':poly})\n",
    "    return preds\n",
    "# running validate setup"
   ]
  },
  {
   "cell_type": "code",
   "execution_count": null,
   "id": "9f814191",
   "metadata": {},
   "outputs": [],
   "source": []
  }
 ],
 "metadata": {
  "kernelspec": {
   "display_name": "Python 3 (ipykernel)",
   "language": "python",
   "name": "python3"
  },
  "language_info": {
   "codemirror_mode": {
    "name": "ipython",
    "version": 3
   },
   "file_extension": ".py",
   "mimetype": "text/x-python",
   "name": "python",
   "nbconvert_exporter": "python",
   "pygments_lexer": "ipython3",
   "version": "3.9.13"
  }
 },
 "nbformat": 4,
 "nbformat_minor": 5
}
