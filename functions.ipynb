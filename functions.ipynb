{
 "cells": [
  {
   "cell_type": "code",
   "execution_count": 1,
   "id": "75355355",
   "metadata": {},
   "outputs": [],
   "source": [
    "def select_kbest(X_train, y_train, stat_test, k_value):\n",
    "    f_selector = SelectKBest(stat_test, k = k_value)\n",
    "    f_selector.fit(X_train, y_train)\n",
    "    f_select_mask = f_selector.get_support()\n",
    "    return X_train.iloc[:,f_select_mask].head()"
   ]
  },
  {
   "cell_type": "code",
   "execution_count": null,
   "id": "cbcd663f",
   "metadata": {},
   "outputs": [],
   "source": []
  }
 ],
 "metadata": {
  "kernelspec": {
   "display_name": "Python 3 (ipykernel)",
   "language": "python",
   "name": "python3"
  },
  "language_info": {
   "codemirror_mode": {
    "name": "ipython",
    "version": 3
   },
   "file_extension": ".py",
   "mimetype": "text/x-python",
   "name": "python",
   "nbconvert_exporter": "python",
   "pygments_lexer": "ipython3",
   "version": "3.9.13"
  }
 },
 "nbformat": 4,
 "nbformat_minor": 5
}
