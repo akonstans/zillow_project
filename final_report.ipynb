{
 "cells": [
  {
   "cell_type": "markdown",
   "id": "53e00128",
   "metadata": {},
   "source": [
    "## Project Description\n",
    "\n",
    "Zillow is a tech real estate online marketplace with multiple listings and price estimation for properties around the United States. The intention behind this porject is to create a predictive model to aid in assessing home value. The data used for this project is the historical data from 2017 for Single Family housing."
   ]
  },
  {
   "cell_type": "markdown",
   "id": "885838dc",
   "metadata": {},
   "source": [
    "## Project Goals\n",
    "\n",
    "- To discover drivers of housing prices from the feature set\n",
    "- To create a Regression model that will be able to predict the housing price of Single Family Homes\n",
    "- The feature set used to predict house prices is aquired from Zillow\n",
    "- The end goal of the model is to achieve predictions within 5% of actual price\n",
    "- Deliver a report of the findings to Zillow team\n"
   ]
  },
  {
   "cell_type": "code",
   "execution_count": 1,
   "id": "242a7887",
   "metadata": {},
   "outputs": [],
   "source": [
    "import functions2 as f\n",
    "import wrangle as w\n",
    "import new_lib as nl\n",
    "from sklearn.preprocessing import MinMaxScaler\n",
    "import pandas as pd\n",
    "from sklearn.metrics import mean_squared_error, r2_score, explained_variance_score\n",
    "from sklearn.feature_selection import SelectKBest, f_regression, RFE\n",
    "from scipy import stats"
   ]
  },
  {
   "cell_type": "markdown",
   "id": "8ff85593",
   "metadata": {},
   "source": [
    "## Wrangle\n",
    "- Data acquired from Zillow Database\n",
    "- Organized into feature set that will be used \n",
    "- Data is from the 2017 Single Family homes that were involved in transactions"
   ]
  },
  {
   "cell_type": "code",
   "execution_count": 2,
   "id": "106aec9e",
   "metadata": {},
   "outputs": [
    {
     "name": "stdout",
     "output_type": "stream",
     "text": [
      "fips column ignored\n"
     ]
    }
   ],
   "source": [
    "zil = w.wrangle_zillow()\n",
    "zil, fences = nl.remove_outliers(zil)\n",
    "train, validate, test, X_train, y_train, X_val, y_val, X_test, y_test = nl.train_vailidate_test_split(zil, 'tax_value')\n",
    "train_scaled, val_scaled, test_scaled = nl.scale_splits(X_train, X_val, X_test, MinMaxScaler(), ['bedrooms', 'bathrooms', 'square_footage', 'lot_size', 'yearbuilt'])\n",
    "train_scaled = pd.get_dummies(train_scaled, columns= ['fips'])\n",
    "# Calling and organizing data"
   ]
  },
  {
   "cell_type": "code",
   "execution_count": 3,
   "id": "639c2094",
   "metadata": {},
   "outputs": [],
   "source": [
    "cont_var = ['bedrooms','bathrooms','square_footage','lot_size','yearbuilt']\n",
    "cat_var = zil.fips\n",
    "target = zil.tax_value\n",
    "# Establishing variable types for report"
   ]
  },
  {
   "cell_type": "markdown",
   "id": "f429175a",
   "metadata": {},
   "source": [
    "## Explore\n",
    "\n",
    "- Attempting to discern drivers behind home cost\n",
    "- Visualize the different features\n",
    "- Test the features to see which are most relevant"
   ]
  },
  {
   "cell_type": "code",
   "execution_count": 4,
   "id": "bb8493a4",
   "metadata": {},
   "outputs": [
    {
     "data": {
      "text/html": [
       "<div>\n",
       "<style scoped>\n",
       "    .dataframe tbody tr th:only-of-type {\n",
       "        vertical-align: middle;\n",
       "    }\n",
       "\n",
       "    .dataframe tbody tr th {\n",
       "        vertical-align: top;\n",
       "    }\n",
       "\n",
       "    .dataframe thead th {\n",
       "        text-align: right;\n",
       "    }\n",
       "</style>\n",
       "<table border=\"1\" class=\"dataframe\">\n",
       "  <thead>\n",
       "    <tr style=\"text-align: right;\">\n",
       "      <th></th>\n",
       "      <th>bathrooms</th>\n",
       "      <th>square_footage</th>\n",
       "      <th>yearbuilt</th>\n",
       "    </tr>\n",
       "    <tr>\n",
       "      <th>index</th>\n",
       "      <th></th>\n",
       "      <th></th>\n",
       "      <th></th>\n",
       "    </tr>\n",
       "  </thead>\n",
       "  <tbody>\n",
       "    <tr>\n",
       "      <th>18573</th>\n",
       "      <td>0.285714</td>\n",
       "      <td>0.320749</td>\n",
       "      <td>0.550459</td>\n",
       "    </tr>\n",
       "    <tr>\n",
       "      <th>32318</th>\n",
       "      <td>0.285714</td>\n",
       "      <td>0.274198</td>\n",
       "      <td>0.513761</td>\n",
       "    </tr>\n",
       "    <tr>\n",
       "      <th>17200</th>\n",
       "      <td>0.285714</td>\n",
       "      <td>0.411581</td>\n",
       "      <td>0.486239</td>\n",
       "    </tr>\n",
       "    <tr>\n",
       "      <th>570</th>\n",
       "      <td>0.000000</td>\n",
       "      <td>0.241272</td>\n",
       "      <td>0.311927</td>\n",
       "    </tr>\n",
       "    <tr>\n",
       "      <th>32875</th>\n",
       "      <td>0.428571</td>\n",
       "      <td>0.507806</td>\n",
       "      <td>0.495413</td>\n",
       "    </tr>\n",
       "  </tbody>\n",
       "</table>\n",
       "</div>"
      ],
      "text/plain": [
       "       bathrooms  square_footage  yearbuilt\n",
       "index                                      \n",
       "18573   0.285714        0.320749   0.550459\n",
       "32318   0.285714        0.274198   0.513761\n",
       "17200   0.285714        0.411581   0.486239\n",
       "570     0.000000        0.241272   0.311927\n",
       "32875   0.428571        0.507806   0.495413"
      ]
     },
     "execution_count": 4,
     "metadata": {},
     "output_type": "execute_result"
    }
   ],
   "source": [
    "f.select_kbest(train_scaled, y_train, f_regression, 3)"
   ]
  },
  {
   "cell_type": "markdown",
   "id": "aa28ab5f",
   "metadata": {},
   "source": [
    "Using the kbest function I found that bathrooms, square footage, and yearbuilt were the three best drivers"
   ]
  },
  {
   "cell_type": "code",
   "execution_count": 5,
   "id": "b8c56bf5",
   "metadata": {},
   "outputs": [
    {
     "data": {
      "text/html": [
       "<div>\n",
       "<style scoped>\n",
       "    .dataframe tbody tr th:only-of-type {\n",
       "        vertical-align: middle;\n",
       "    }\n",
       "\n",
       "    .dataframe tbody tr th {\n",
       "        vertical-align: top;\n",
       "    }\n",
       "\n",
       "    .dataframe thead th {\n",
       "        text-align: right;\n",
       "    }\n",
       "</style>\n",
       "<table border=\"1\" class=\"dataframe\">\n",
       "  <thead>\n",
       "    <tr style=\"text-align: right;\">\n",
       "      <th></th>\n",
       "      <th>ranking</th>\n",
       "      <th>feature</th>\n",
       "    </tr>\n",
       "  </thead>\n",
       "  <tbody>\n",
       "    <tr>\n",
       "      <th>0</th>\n",
       "      <td>1</td>\n",
       "      <td>fips_6037.0</td>\n",
       "    </tr>\n",
       "    <tr>\n",
       "      <th>1</th>\n",
       "      <td>1</td>\n",
       "      <td>fips_6059.0</td>\n",
       "    </tr>\n",
       "    <tr>\n",
       "      <th>2</th>\n",
       "      <td>1</td>\n",
       "      <td>fips_6111.0</td>\n",
       "    </tr>\n",
       "    <tr>\n",
       "      <th>3</th>\n",
       "      <td>2</td>\n",
       "      <td>square_footage</td>\n",
       "    </tr>\n",
       "    <tr>\n",
       "      <th>4</th>\n",
       "      <td>3</td>\n",
       "      <td>bedrooms</td>\n",
       "    </tr>\n",
       "    <tr>\n",
       "      <th>5</th>\n",
       "      <td>4</td>\n",
       "      <td>bathrooms</td>\n",
       "    </tr>\n",
       "    <tr>\n",
       "      <th>6</th>\n",
       "      <td>5</td>\n",
       "      <td>lot_size</td>\n",
       "    </tr>\n",
       "    <tr>\n",
       "      <th>7</th>\n",
       "      <td>6</td>\n",
       "      <td>yearbuilt</td>\n",
       "    </tr>\n",
       "    <tr>\n",
       "      <th>8</th>\n",
       "      <td>7</td>\n",
       "      <td>id</td>\n",
       "    </tr>\n",
       "  </tbody>\n",
       "</table>\n",
       "</div>"
      ],
      "text/plain": [
       "   ranking         feature\n",
       "0        1     fips_6037.0\n",
       "1        1     fips_6059.0\n",
       "2        1     fips_6111.0\n",
       "3        2  square_footage\n",
       "4        3        bedrooms\n",
       "5        4       bathrooms\n",
       "6        5        lot_size\n",
       "7        6       yearbuilt\n",
       "8        7              id"
      ]
     },
     "execution_count": 5,
     "metadata": {},
     "output_type": "execute_result"
    }
   ],
   "source": [
    "f.rfe_ranks(3, train_scaled, y_train)"
   ]
  },
  {
   "cell_type": "markdown",
   "id": "4c05fc8d",
   "metadata": {},
   "source": [
    "However, when I used an rfe I found that each fips code was the most important indicator and putting that aside square footage and bedrooms were still at the top of the list"
   ]
  },
  {
   "cell_type": "markdown",
   "id": "73185388",
   "metadata": {},
   "source": [
    "I also ran a correlation test which found that square footage, and bathrooms were the two best drivers"
   ]
  },
  {
   "cell_type": "code",
   "execution_count": 6,
   "id": "6afc31e1",
   "metadata": {},
   "outputs": [
    {
     "data": {
      "image/png": "[encoded data removed]",
      "text/plain": [
       "<Figure size 640x480 with 1 Axes>"
      ]
     },
     "metadata": {},
     "output_type": "display_data"
    }
   ],
   "source": [
    "f.bed_plot(train)"
   ]
  },
  {
   "cell_type": "markdown",
   "id": "da1e285c",
   "metadata": {},
   "source": [
    "### Bedroom count is clearly a good driver for home price and the bar chart clearly displays a positive relationship with the number of bedrooms and the price of a home"
   ]
  },
  {
   "cell_type": "code",
   "execution_count": 7,
   "id": "1c239cd0",
   "metadata": {},
   "outputs": [
    {
     "data": {
      "image/png": "[encoded data removed]",
      "text/plain": [
       "<Figure size 640x480 with 1 Axes>"
      ]
     },
     "metadata": {},
     "output_type": "display_data"
    }
   ],
   "source": [
    "f.bath_plot(train)"
   ]
  },
  {
   "cell_type": "markdown",
   "id": "c0a3496a",
   "metadata": {},
   "source": [
    "### Bathrooms was slightly worse as a driver than bedrooms and there is an interesting dip between 3.5 and 4 bathrooms but outside of that and 2.5 to 3 it is a strong positive relationship"
   ]
  },
  {
   "cell_type": "code",
   "execution_count": 8,
   "id": "150eebde",
   "metadata": {},
   "outputs": [
    {
     "data": {
      "image/png": "[encoded data removed]",
      "text/plain": [
       "<Figure size 640x480 with 1 Axes>"
      ]
     },
     "metadata": {},
     "output_type": "display_data"
    }
   ],
   "source": [
    "f.county_plot(train)"
   ]
  },
  {
   "cell_type": "markdown",
   "id": "d531e7af",
   "metadata": {},
   "source": [
    "### FIPS Code 6059 has a greater average price than the other two counties. After research the counties were identified as L.A, Orange County, and Ventura County respectivley\n",
    "\n",
    "This is visual evidence that county location is a strong driver of home price"
   ]
  },
  {
   "cell_type": "code",
   "execution_count": 9,
   "id": "17f5425f",
   "metadata": {},
   "outputs": [
    {
     "data": {
      "image/png": "[encoded data removed]",
      "text/plain": [
       "<Figure size 640x480 with 1 Axes>"
      ]
     },
     "metadata": {},
     "output_type": "display_data"
    }
   ],
   "source": [
    "f.hist_plot(train)"
   ]
  },
  {
   "cell_type": "markdown",
   "id": "1212b054",
   "metadata": {},
   "source": [
    "### Here is a better visualization of the counties home prices overlayed on each other.\n",
    "### Of note is that while L.A has the greatest amount of properties the average value of the properties tends to be lower than the other two"
   ]
  },
  {
   "cell_type": "markdown",
   "id": "8ddc0cc5",
   "metadata": {},
   "source": [
    "## Exploration Summary\n",
    "\n",
    "- Bedrooms and bathrooms are both good drivers of house price however bedrooms is the better indicator\n",
    "- Total lot size actual had a rather small correlation with price perhaps because some cheaper L.A plots had a large lot\n",
    "- FIPS or Federal County Code had a significant impact on housing price which does fall in line with my original hypothesis\n",
    "- Statistically the best driver appeared to be square footage"
   ]
  },
  {
   "cell_type": "markdown",
   "id": "05dcd3c3",
   "metadata": {},
   "source": [
    "## Modeling\n",
    "- I used three diferent models during this phase (OLS, Polynomial Regression, and LassoLars)\n",
    "- Polynomial Regression had the best results and was the only model moved forward to the test stage\n",
    "- It resulted in a raw 36,000 dollar average increase in accuracy for the predictions"
   ]
  },
  {
   "cell_type": "code",
   "execution_count": 55,
   "id": "2c6e2625",
   "metadata": {},
   "outputs": [
    {
     "data": {
      "text/html": [
       "<div>\n",
       "<style scoped>\n",
       "    .dataframe tbody tr th:only-of-type {\n",
       "        vertical-align: middle;\n",
       "    }\n",
       "\n",
       "    .dataframe tbody tr th {\n",
       "        vertical-align: top;\n",
       "    }\n",
       "\n",
       "    .dataframe thead th {\n",
       "        text-align: right;\n",
       "    }\n",
       "</style>\n",
       "<table border=\"1\" class=\"dataframe\">\n",
       "  <thead>\n",
       "    <tr style=\"text-align: right;\">\n",
       "      <th></th>\n",
       "      <th>id</th>\n",
       "      <th>square_footage</th>\n",
       "      <th>lot_size</th>\n",
       "      <th>yearbuilt</th>\n",
       "      <th>fips_6037.0</th>\n",
       "      <th>fips_6059.0</th>\n",
       "      <th>fips_6111.0</th>\n",
       "      <th>room_count</th>\n",
       "    </tr>\n",
       "    <tr>\n",
       "      <th>index</th>\n",
       "      <th></th>\n",
       "      <th></th>\n",
       "      <th></th>\n",
       "      <th></th>\n",
       "      <th></th>\n",
       "      <th></th>\n",
       "      <th></th>\n",
       "      <th></th>\n",
       "    </tr>\n",
       "  </thead>\n",
       "  <tbody>\n",
       "    <tr>\n",
       "      <th>18573</th>\n",
       "      <td>2138356</td>\n",
       "      <td>0.320749</td>\n",
       "      <td>0.429523</td>\n",
       "      <td>0.550459</td>\n",
       "      <td>1</td>\n",
       "      <td>0</td>\n",
       "      <td>0</td>\n",
       "      <td>0.619048</td>\n",
       "    </tr>\n",
       "    <tr>\n",
       "      <th>32318</th>\n",
       "      <td>2695053</td>\n",
       "      <td>0.274198</td>\n",
       "      <td>0.406632</td>\n",
       "      <td>0.513761</td>\n",
       "      <td>0</td>\n",
       "      <td>1</td>\n",
       "      <td>0</td>\n",
       "      <td>0.619048</td>\n",
       "    </tr>\n",
       "    <tr>\n",
       "      <th>17200</th>\n",
       "      <td>145241</td>\n",
       "      <td>0.411581</td>\n",
       "      <td>0.574161</td>\n",
       "      <td>0.486239</td>\n",
       "      <td>0</td>\n",
       "      <td>1</td>\n",
       "      <td>0</td>\n",
       "      <td>0.619048</td>\n",
       "    </tr>\n",
       "    <tr>\n",
       "      <th>570</th>\n",
       "      <td>643458</td>\n",
       "      <td>0.241272</td>\n",
       "      <td>0.370100</td>\n",
       "      <td>0.311927</td>\n",
       "      <td>1</td>\n",
       "      <td>0</td>\n",
       "      <td>0</td>\n",
       "      <td>0.000000</td>\n",
       "    </tr>\n",
       "    <tr>\n",
       "      <th>32875</th>\n",
       "      <td>1144215</td>\n",
       "      <td>0.507806</td>\n",
       "      <td>0.516384</td>\n",
       "      <td>0.495413</td>\n",
       "      <td>0</td>\n",
       "      <td>1</td>\n",
       "      <td>0</td>\n",
       "      <td>1.095238</td>\n",
       "    </tr>\n",
       "    <tr>\n",
       "      <th>...</th>\n",
       "      <td>...</td>\n",
       "      <td>...</td>\n",
       "      <td>...</td>\n",
       "      <td>...</td>\n",
       "      <td>...</td>\n",
       "      <td>...</td>\n",
       "      <td>...</td>\n",
       "      <td>...</td>\n",
       "    </tr>\n",
       "    <tr>\n",
       "      <th>11025</th>\n",
       "      <td>1131359</td>\n",
       "      <td>0.471757</td>\n",
       "      <td>0.328238</td>\n",
       "      <td>0.697248</td>\n",
       "      <td>0</td>\n",
       "      <td>1</td>\n",
       "      <td>0</td>\n",
       "      <td>1.095238</td>\n",
       "    </tr>\n",
       "    <tr>\n",
       "      <th>31513</th>\n",
       "      <td>523097</td>\n",
       "      <td>0.487369</td>\n",
       "      <td>0.600267</td>\n",
       "      <td>0.577982</td>\n",
       "      <td>0</td>\n",
       "      <td>0</td>\n",
       "      <td>1</td>\n",
       "      <td>1.238095</td>\n",
       "    </tr>\n",
       "    <tr>\n",
       "      <th>18178</th>\n",
       "      <td>526213</td>\n",
       "      <td>0.267386</td>\n",
       "      <td>0.320477</td>\n",
       "      <td>0.376147</td>\n",
       "      <td>1</td>\n",
       "      <td>0</td>\n",
       "      <td>0</td>\n",
       "      <td>0.333333</td>\n",
       "    </tr>\n",
       "    <tr>\n",
       "      <th>46552</th>\n",
       "      <td>459842</td>\n",
       "      <td>0.619642</td>\n",
       "      <td>0.751568</td>\n",
       "      <td>0.715596</td>\n",
       "      <td>0</td>\n",
       "      <td>1</td>\n",
       "      <td>0</td>\n",
       "      <td>1.238095</td>\n",
       "    </tr>\n",
       "    <tr>\n",
       "      <th>7444</th>\n",
       "      <td>1665879</td>\n",
       "      <td>0.305989</td>\n",
       "      <td>0.589213</td>\n",
       "      <td>0.522936</td>\n",
       "      <td>1</td>\n",
       "      <td>0</td>\n",
       "      <td>0</td>\n",
       "      <td>0.952381</td>\n",
       "    </tr>\n",
       "  </tbody>\n",
       "</table>\n",
       "<p>23878 rows × 8 columns</p>\n",
       "</div>"
      ],
      "text/plain": [
       "            id  square_footage  lot_size  yearbuilt  fips_6037.0  fips_6059.0  \\\n",
       "index                                                                           \n",
       "18573  2138356        0.320749  0.429523   0.550459            1            0   \n",
       "32318  2695053        0.274198  0.406632   0.513761            0            1   \n",
       "17200   145241        0.411581  0.574161   0.486239            0            1   \n",
       "570     643458        0.241272  0.370100   0.311927            1            0   \n",
       "32875  1144215        0.507806  0.516384   0.495413            0            1   \n",
       "...        ...             ...       ...        ...          ...          ...   \n",
       "11025  1131359        0.471757  0.328238   0.697248            0            1   \n",
       "31513   523097        0.487369  0.600267   0.577982            0            0   \n",
       "18178   526213        0.267386  0.320477   0.376147            1            0   \n",
       "46552   459842        0.619642  0.751568   0.715596            0            1   \n",
       "7444   1665879        0.305989  0.589213   0.522936            1            0   \n",
       "\n",
       "       fips_6111.0  room_count  \n",
       "index                           \n",
       "18573            0    0.619048  \n",
       "32318            0    0.619048  \n",
       "17200            0    0.619048  \n",
       "570              0    0.000000  \n",
       "32875            0    1.095238  \n",
       "...            ...         ...  \n",
       "11025            0    1.095238  \n",
       "31513            1    1.238095  \n",
       "18178            0    0.333333  \n",
       "46552            0    1.238095  \n",
       "7444             0    0.952381  \n",
       "\n",
       "[23878 rows x 8 columns]"
      ]
     },
     "execution_count": 55,
     "metadata": {},
     "output_type": "execute_result"
    }
   ],
   "source": [
    "f.room_cnt(train_scaled)\n",
    "# Combining bedroom and bathroom features into one room count feature"
   ]
  },
  {
   "cell_type": "markdown",
   "id": "9aea675c",
   "metadata": {},
   "source": [
    "### OLS Linear Model"
   ]
  },
  {
   "cell_type": "code",
   "execution_count": 56,
   "id": "eee88cfd",
   "metadata": {},
   "outputs": [
    {
     "data": {
      "text/html": [
       "<div>\n",
       "<style scoped>\n",
       "    .dataframe tbody tr th:only-of-type {\n",
       "        vertical-align: middle;\n",
       "    }\n",
       "\n",
       "    .dataframe tbody tr th {\n",
       "        vertical-align: top;\n",
       "    }\n",
       "\n",
       "    .dataframe thead th {\n",
       "        text-align: right;\n",
       "    }\n",
       "</style>\n",
       "<table border=\"1\" class=\"dataframe\">\n",
       "  <thead>\n",
       "    <tr style=\"text-align: right;\">\n",
       "      <th></th>\n",
       "      <th>actual</th>\n",
       "      <th>baseline</th>\n",
       "      <th>lm_preds</th>\n",
       "    </tr>\n",
       "    <tr>\n",
       "      <th>index</th>\n",
       "      <th></th>\n",
       "      <th></th>\n",
       "      <th></th>\n",
       "    </tr>\n",
       "  </thead>\n",
       "  <tbody>\n",
       "    <tr>\n",
       "      <th>18573</th>\n",
       "      <td>269997.0</td>\n",
       "      <td>380044.138663</td>\n",
       "      <td>316385.112743</td>\n",
       "    </tr>\n",
       "    <tr>\n",
       "      <th>32318</th>\n",
       "      <td>68248.0</td>\n",
       "      <td>380044.138663</td>\n",
       "      <td>347607.988756</td>\n",
       "    </tr>\n",
       "    <tr>\n",
       "      <th>17200</th>\n",
       "      <td>271093.0</td>\n",
       "      <td>380044.138663</td>\n",
       "      <td>434226.144700</td>\n",
       "    </tr>\n",
       "    <tr>\n",
       "      <th>570</th>\n",
       "      <td>39307.0</td>\n",
       "      <td>380044.138663</td>\n",
       "      <td>298645.603895</td>\n",
       "    </tr>\n",
       "    <tr>\n",
       "      <th>32875</th>\n",
       "      <td>492428.0</td>\n",
       "      <td>380044.138663</td>\n",
       "      <td>478668.876688</td>\n",
       "    </tr>\n",
       "    <tr>\n",
       "      <th>...</th>\n",
       "      <td>...</td>\n",
       "      <td>...</td>\n",
       "      <td>...</td>\n",
       "    </tr>\n",
       "    <tr>\n",
       "      <th>11025</th>\n",
       "      <td>701000.0</td>\n",
       "      <td>380044.138663</td>\n",
       "      <td>453199.819605</td>\n",
       "    </tr>\n",
       "    <tr>\n",
       "      <th>31513</th>\n",
       "      <td>710674.0</td>\n",
       "      <td>380044.138663</td>\n",
       "      <td>453825.540205</td>\n",
       "    </tr>\n",
       "    <tr>\n",
       "      <th>18178</th>\n",
       "      <td>923877.0</td>\n",
       "      <td>380044.138663</td>\n",
       "      <td>267758.898972</td>\n",
       "    </tr>\n",
       "    <tr>\n",
       "      <th>46552</th>\n",
       "      <td>524425.0</td>\n",
       "      <td>380044.138663</td>\n",
       "      <td>535133.454422</td>\n",
       "    </tr>\n",
       "    <tr>\n",
       "      <th>7444</th>\n",
       "      <td>88537.0</td>\n",
       "      <td>380044.138663</td>\n",
       "      <td>242638.189818</td>\n",
       "    </tr>\n",
       "  </tbody>\n",
       "</table>\n",
       "<p>23878 rows × 3 columns</p>\n",
       "</div>"
      ],
      "text/plain": [
       "         actual       baseline       lm_preds\n",
       "index                                        \n",
       "18573  269997.0  380044.138663  316385.112743\n",
       "32318   68248.0  380044.138663  347607.988756\n",
       "17200  271093.0  380044.138663  434226.144700\n",
       "570     39307.0  380044.138663  298645.603895\n",
       "32875  492428.0  380044.138663  478668.876688\n",
       "...         ...            ...            ...\n",
       "11025  701000.0  380044.138663  453199.819605\n",
       "31513  710674.0  380044.138663  453825.540205\n",
       "18178  923877.0  380044.138663  267758.898972\n",
       "46552  524425.0  380044.138663  535133.454422\n",
       "7444    88537.0  380044.138663  242638.189818\n",
       "\n",
       "[23878 rows x 3 columns]"
      ]
     },
     "execution_count": 56,
     "metadata": {},
     "output_type": "execute_result"
    }
   ],
   "source": [
    "linear = f.linear_regression(train_scaled, y_train)\n",
    "linear"
   ]
  },
  {
   "cell_type": "code",
   "execution_count": 57,
   "id": "b4535e8b",
   "metadata": {},
   "outputs": [
    {
     "data": {
      "text/plain": [
       "222757.74"
      ]
     },
     "execution_count": 57,
     "metadata": {},
     "output_type": "execute_result"
    }
   ],
   "source": [
    "f.assess(linear['actual'], linear['lm_preds'])\n",
    "# Model Assesment"
   ]
  },
  {
   "cell_type": "markdown",
   "id": "ca767cb0",
   "metadata": {},
   "source": [
    "### LassoLars Model"
   ]
  },
  {
   "cell_type": "code",
   "execution_count": 58,
   "id": "9a04f08e",
   "metadata": {},
   "outputs": [
    {
     "data": {
      "text/html": [
       "<div>\n",
       "<style scoped>\n",
       "    .dataframe tbody tr th:only-of-type {\n",
       "        vertical-align: middle;\n",
       "    }\n",
       "\n",
       "    .dataframe tbody tr th {\n",
       "        vertical-align: top;\n",
       "    }\n",
       "\n",
       "    .dataframe thead th {\n",
       "        text-align: right;\n",
       "    }\n",
       "</style>\n",
       "<table border=\"1\" class=\"dataframe\">\n",
       "  <thead>\n",
       "    <tr style=\"text-align: right;\">\n",
       "      <th></th>\n",
       "      <th>actual</th>\n",
       "      <th>baseline</th>\n",
       "      <th>lasso_preds</th>\n",
       "    </tr>\n",
       "    <tr>\n",
       "      <th>index</th>\n",
       "      <th></th>\n",
       "      <th></th>\n",
       "      <th></th>\n",
       "    </tr>\n",
       "  </thead>\n",
       "  <tbody>\n",
       "    <tr>\n",
       "      <th>18573</th>\n",
       "      <td>269997.0</td>\n",
       "      <td>380044.138663</td>\n",
       "      <td>316428.732321</td>\n",
       "    </tr>\n",
       "    <tr>\n",
       "      <th>32318</th>\n",
       "      <td>68248.0</td>\n",
       "      <td>380044.138663</td>\n",
       "      <td>347614.599185</td>\n",
       "    </tr>\n",
       "    <tr>\n",
       "      <th>17200</th>\n",
       "      <td>271093.0</td>\n",
       "      <td>380044.138663</td>\n",
       "      <td>434172.485029</td>\n",
       "    </tr>\n",
       "    <tr>\n",
       "      <th>570</th>\n",
       "      <td>39307.0</td>\n",
       "      <td>380044.138663</td>\n",
       "      <td>298612.238828</td>\n",
       "    </tr>\n",
       "    <tr>\n",
       "      <th>32875</th>\n",
       "      <td>492428.0</td>\n",
       "      <td>380044.138663</td>\n",
       "      <td>478633.203310</td>\n",
       "    </tr>\n",
       "    <tr>\n",
       "      <th>...</th>\n",
       "      <td>...</td>\n",
       "      <td>...</td>\n",
       "      <td>...</td>\n",
       "    </tr>\n",
       "    <tr>\n",
       "      <th>11025</th>\n",
       "      <td>701000.0</td>\n",
       "      <td>380044.138663</td>\n",
       "      <td>453198.677862</td>\n",
       "    </tr>\n",
       "    <tr>\n",
       "      <th>31513</th>\n",
       "      <td>710674.0</td>\n",
       "      <td>380044.138663</td>\n",
       "      <td>453781.728305</td>\n",
       "    </tr>\n",
       "    <tr>\n",
       "      <th>18178</th>\n",
       "      <td>923877.0</td>\n",
       "      <td>380044.138663</td>\n",
       "      <td>267778.519644</td>\n",
       "    </tr>\n",
       "    <tr>\n",
       "      <th>46552</th>\n",
       "      <td>524425.0</td>\n",
       "      <td>380044.138663</td>\n",
       "      <td>535120.902036</td>\n",
       "    </tr>\n",
       "    <tr>\n",
       "      <th>7444</th>\n",
       "      <td>88537.0</td>\n",
       "      <td>380044.138663</td>\n",
       "      <td>242740.257946</td>\n",
       "    </tr>\n",
       "  </tbody>\n",
       "</table>\n",
       "<p>23878 rows × 3 columns</p>\n",
       "</div>"
      ],
      "text/plain": [
       "         actual       baseline    lasso_preds\n",
       "index                                        \n",
       "18573  269997.0  380044.138663  316428.732321\n",
       "32318   68248.0  380044.138663  347614.599185\n",
       "17200  271093.0  380044.138663  434172.485029\n",
       "570     39307.0  380044.138663  298612.238828\n",
       "32875  492428.0  380044.138663  478633.203310\n",
       "...         ...            ...            ...\n",
       "11025  701000.0  380044.138663  453198.677862\n",
       "31513  710674.0  380044.138663  453781.728305\n",
       "18178  923877.0  380044.138663  267778.519644\n",
       "46552  524425.0  380044.138663  535120.902036\n",
       "7444    88537.0  380044.138663  242740.257946\n",
       "\n",
       "[23878 rows x 3 columns]"
      ]
     },
     "execution_count": 58,
     "metadata": {},
     "output_type": "execute_result"
    }
   ],
   "source": [
    "lasso = f.lasso_lars(train_scaled, y_train)\n",
    "lasso"
   ]
  },
  {
   "cell_type": "code",
   "execution_count": 59,
   "id": "c926ae27",
   "metadata": {},
   "outputs": [
    {
     "data": {
      "text/plain": [
       "222757.74"
      ]
     },
     "execution_count": 59,
     "metadata": {},
     "output_type": "execute_result"
    }
   ],
   "source": [
    "f.assess(lasso['actual'], lasso['lasso_preds'])"
   ]
  },
  {
   "cell_type": "markdown",
   "id": "9948ef34",
   "metadata": {},
   "source": [
    "### Polynomial Model"
   ]
  },
  {
   "cell_type": "code",
   "execution_count": 60,
   "id": "018525df",
   "metadata": {},
   "outputs": [
    {
     "data": {
      "text/html": [
       "<div>\n",
       "<style scoped>\n",
       "    .dataframe tbody tr th:only-of-type {\n",
       "        vertical-align: middle;\n",
       "    }\n",
       "\n",
       "    .dataframe tbody tr th {\n",
       "        vertical-align: top;\n",
       "    }\n",
       "\n",
       "    .dataframe thead th {\n",
       "        text-align: right;\n",
       "    }\n",
       "</style>\n",
       "<table border=\"1\" class=\"dataframe\">\n",
       "  <thead>\n",
       "    <tr style=\"text-align: right;\">\n",
       "      <th></th>\n",
       "      <th>actual</th>\n",
       "      <th>baseline</th>\n",
       "      <th>poly_preds</th>\n",
       "    </tr>\n",
       "    <tr>\n",
       "      <th>index</th>\n",
       "      <th></th>\n",
       "      <th></th>\n",
       "      <th></th>\n",
       "    </tr>\n",
       "  </thead>\n",
       "  <tbody>\n",
       "    <tr>\n",
       "      <th>18573</th>\n",
       "      <td>269997.0</td>\n",
       "      <td>380044.138663</td>\n",
       "      <td>289090.444835</td>\n",
       "    </tr>\n",
       "    <tr>\n",
       "      <th>32318</th>\n",
       "      <td>68248.0</td>\n",
       "      <td>380044.138663</td>\n",
       "      <td>325343.754899</td>\n",
       "    </tr>\n",
       "    <tr>\n",
       "      <th>17200</th>\n",
       "      <td>271093.0</td>\n",
       "      <td>380044.138663</td>\n",
       "      <td>395913.697747</td>\n",
       "    </tr>\n",
       "    <tr>\n",
       "      <th>570</th>\n",
       "      <td>39307.0</td>\n",
       "      <td>380044.138663</td>\n",
       "      <td>299729.782332</td>\n",
       "    </tr>\n",
       "    <tr>\n",
       "      <th>32875</th>\n",
       "      <td>492428.0</td>\n",
       "      <td>380044.138663</td>\n",
       "      <td>407813.688150</td>\n",
       "    </tr>\n",
       "    <tr>\n",
       "      <th>...</th>\n",
       "      <td>...</td>\n",
       "      <td>...</td>\n",
       "      <td>...</td>\n",
       "    </tr>\n",
       "    <tr>\n",
       "      <th>11025</th>\n",
       "      <td>701000.0</td>\n",
       "      <td>380044.138663</td>\n",
       "      <td>480198.075280</td>\n",
       "    </tr>\n",
       "    <tr>\n",
       "      <th>31513</th>\n",
       "      <td>710674.0</td>\n",
       "      <td>380044.138663</td>\n",
       "      <td>415888.075418</td>\n",
       "    </tr>\n",
       "    <tr>\n",
       "      <th>18178</th>\n",
       "      <td>923877.0</td>\n",
       "      <td>380044.138663</td>\n",
       "      <td>276415.466799</td>\n",
       "    </tr>\n",
       "    <tr>\n",
       "      <th>46552</th>\n",
       "      <td>524425.0</td>\n",
       "      <td>380044.138663</td>\n",
       "      <td>597352.655931</td>\n",
       "    </tr>\n",
       "    <tr>\n",
       "      <th>7444</th>\n",
       "      <td>88537.0</td>\n",
       "      <td>380044.138663</td>\n",
       "      <td>249331.825860</td>\n",
       "    </tr>\n",
       "  </tbody>\n",
       "</table>\n",
       "<p>23878 rows × 3 columns</p>\n",
       "</div>"
      ],
      "text/plain": [
       "         actual       baseline     poly_preds\n",
       "index                                        \n",
       "18573  269997.0  380044.138663  289090.444835\n",
       "32318   68248.0  380044.138663  325343.754899\n",
       "17200  271093.0  380044.138663  395913.697747\n",
       "570     39307.0  380044.138663  299729.782332\n",
       "32875  492428.0  380044.138663  407813.688150\n",
       "...         ...            ...            ...\n",
       "11025  701000.0  380044.138663  480198.075280\n",
       "31513  710674.0  380044.138663  415888.075418\n",
       "18178  923877.0  380044.138663  276415.466799\n",
       "46552  524425.0  380044.138663  597352.655931\n",
       "7444    88537.0  380044.138663  249331.825860\n",
       "\n",
       "[23878 rows x 3 columns]"
      ]
     },
     "execution_count": 60,
     "metadata": {},
     "output_type": "execute_result"
    }
   ],
   "source": [
    "poly = f.polynomial(train_scaled, y_train)\n",
    "poly"
   ]
  },
  {
   "cell_type": "code",
   "execution_count": 61,
   "id": "e063775b",
   "metadata": {},
   "outputs": [
    {
     "data": {
      "text/plain": [
       "217476.2"
      ]
     },
     "execution_count": 61,
     "metadata": {},
     "output_type": "execute_result"
    }
   ],
   "source": [
    "f.assess(poly['actual'], poly['poly_preds'])"
   ]
  },
  {
   "cell_type": "code",
   "execution_count": 62,
   "id": "85727af5",
   "metadata": {},
   "outputs": [
    {
     "data": {
      "text/plain": [
       "256725.26"
      ]
     },
     "execution_count": 62,
     "metadata": {},
     "output_type": "execute_result"
    }
   ],
   "source": [
    "f.assess(lasso['actual'], lasso['baseline'])"
   ]
  },
  {
   "cell_type": "markdown",
   "id": "7bc863c8",
   "metadata": {},
   "source": [
    "#### Moving on to the test set with the best model"
   ]
  },
  {
   "cell_type": "code",
   "execution_count": 63,
   "id": "0c922d42",
   "metadata": {},
   "outputs": [
    {
     "data": {
      "text/html": [
       "<div>\n",
       "<style scoped>\n",
       "    .dataframe tbody tr th:only-of-type {\n",
       "        vertical-align: middle;\n",
       "    }\n",
       "\n",
       "    .dataframe tbody tr th {\n",
       "        vertical-align: top;\n",
       "    }\n",
       "\n",
       "    .dataframe thead th {\n",
       "        text-align: right;\n",
       "    }\n",
       "</style>\n",
       "<table border=\"1\" class=\"dataframe\">\n",
       "  <thead>\n",
       "    <tr style=\"text-align: right;\">\n",
       "      <th></th>\n",
       "      <th>id</th>\n",
       "      <th>square_footage</th>\n",
       "      <th>lot_size</th>\n",
       "      <th>yearbuilt</th>\n",
       "      <th>fips</th>\n",
       "      <th>room_count</th>\n",
       "    </tr>\n",
       "    <tr>\n",
       "      <th>index</th>\n",
       "      <th></th>\n",
       "      <th></th>\n",
       "      <th></th>\n",
       "      <th></th>\n",
       "      <th></th>\n",
       "      <th></th>\n",
       "    </tr>\n",
       "  </thead>\n",
       "  <tbody>\n",
       "    <tr>\n",
       "      <th>29516</th>\n",
       "      <td>1389329</td>\n",
       "      <td>0.220551</td>\n",
       "      <td>0.465428</td>\n",
       "      <td>0.715596</td>\n",
       "      <td>6037.0</td>\n",
       "      <td>0.952381</td>\n",
       "    </tr>\n",
       "    <tr>\n",
       "      <th>5322</th>\n",
       "      <td>1280539</td>\n",
       "      <td>0.423503</td>\n",
       "      <td>0.208921</td>\n",
       "      <td>0.678899</td>\n",
       "      <td>6059.0</td>\n",
       "      <td>0.571429</td>\n",
       "    </tr>\n",
       "    <tr>\n",
       "      <th>38993</th>\n",
       "      <td>270223</td>\n",
       "      <td>0.343741</td>\n",
       "      <td>0.634603</td>\n",
       "      <td>0.311927</td>\n",
       "      <td>6037.0</td>\n",
       "      <td>0.619048</td>\n",
       "    </tr>\n",
       "    <tr>\n",
       "      <th>11465</th>\n",
       "      <td>226181</td>\n",
       "      <td>0.217144</td>\n",
       "      <td>0.401145</td>\n",
       "      <td>0.394495</td>\n",
       "      <td>6037.0</td>\n",
       "      <td>0.333333</td>\n",
       "    </tr>\n",
       "    <tr>\n",
       "      <th>21105</th>\n",
       "      <td>1145379</td>\n",
       "      <td>0.389441</td>\n",
       "      <td>0.577219</td>\n",
       "      <td>0.605505</td>\n",
       "      <td>6059.0</td>\n",
       "      <td>0.952381</td>\n",
       "    </tr>\n",
       "    <tr>\n",
       "      <th>...</th>\n",
       "      <td>...</td>\n",
       "      <td>...</td>\n",
       "      <td>...</td>\n",
       "      <td>...</td>\n",
       "      <td>...</td>\n",
       "      <td>...</td>\n",
       "    </tr>\n",
       "    <tr>\n",
       "      <th>50569</th>\n",
       "      <td>645125</td>\n",
       "      <td>0.231621</td>\n",
       "      <td>0.428426</td>\n",
       "      <td>0.357798</td>\n",
       "      <td>6037.0</td>\n",
       "      <td>0.333333</td>\n",
       "    </tr>\n",
       "    <tr>\n",
       "      <th>12821</th>\n",
       "      <td>209307</td>\n",
       "      <td>0.395685</td>\n",
       "      <td>0.406632</td>\n",
       "      <td>0.577982</td>\n",
       "      <td>6111.0</td>\n",
       "      <td>1.285714</td>\n",
       "    </tr>\n",
       "    <tr>\n",
       "      <th>31130</th>\n",
       "      <td>1308028</td>\n",
       "      <td>0.451888</td>\n",
       "      <td>0.677877</td>\n",
       "      <td>0.412844</td>\n",
       "      <td>6059.0</td>\n",
       "      <td>0.952381</td>\n",
       "    </tr>\n",
       "    <tr>\n",
       "      <th>35354</th>\n",
       "      <td>965773</td>\n",
       "      <td>0.627874</td>\n",
       "      <td>0.406632</td>\n",
       "      <td>0.623853</td>\n",
       "      <td>6059.0</td>\n",
       "      <td>1.095238</td>\n",
       "    </tr>\n",
       "    <tr>\n",
       "      <th>11320</th>\n",
       "      <td>1544041</td>\n",
       "      <td>0.288107</td>\n",
       "      <td>0.338507</td>\n",
       "      <td>0.394495</td>\n",
       "      <td>6037.0</td>\n",
       "      <td>0.333333</td>\n",
       "    </tr>\n",
       "  </tbody>\n",
       "</table>\n",
       "<p>8528 rows × 6 columns</p>\n",
       "</div>"
      ],
      "text/plain": [
       "            id  square_footage  lot_size  yearbuilt    fips  room_count\n",
       "index                                                                  \n",
       "29516  1389329        0.220551  0.465428   0.715596  6037.0    0.952381\n",
       "5322   1280539        0.423503  0.208921   0.678899  6059.0    0.571429\n",
       "38993   270223        0.343741  0.634603   0.311927  6037.0    0.619048\n",
       "11465   226181        0.217144  0.401145   0.394495  6037.0    0.333333\n",
       "21105  1145379        0.389441  0.577219   0.605505  6059.0    0.952381\n",
       "...        ...             ...       ...        ...     ...         ...\n",
       "50569   645125        0.231621  0.428426   0.357798  6037.0    0.333333\n",
       "12821   209307        0.395685  0.406632   0.577982  6111.0    1.285714\n",
       "31130  1308028        0.451888  0.677877   0.412844  6059.0    0.952381\n",
       "35354   965773        0.627874  0.406632   0.623853  6059.0    1.095238\n",
       "11320  1544041        0.288107  0.338507   0.394495  6037.0    0.333333\n",
       "\n",
       "[8528 rows x 6 columns]"
      ]
     },
     "execution_count": 63,
     "metadata": {},
     "output_type": "execute_result"
    }
   ],
   "source": [
    "f.room_cnt(test_scaled)"
   ]
  },
  {
   "cell_type": "code",
   "execution_count": 64,
   "id": "3a3a3eb1",
   "metadata": {},
   "outputs": [
    {
     "data": {
      "text/html": [
       "<div>\n",
       "<style scoped>\n",
       "    .dataframe tbody tr th:only-of-type {\n",
       "        vertical-align: middle;\n",
       "    }\n",
       "\n",
       "    .dataframe tbody tr th {\n",
       "        vertical-align: top;\n",
       "    }\n",
       "\n",
       "    .dataframe thead th {\n",
       "        text-align: right;\n",
       "    }\n",
       "</style>\n",
       "<table border=\"1\" class=\"dataframe\">\n",
       "  <thead>\n",
       "    <tr style=\"text-align: right;\">\n",
       "      <th></th>\n",
       "      <th>actual</th>\n",
       "      <th>baseline</th>\n",
       "      <th>poly_preds</th>\n",
       "    </tr>\n",
       "    <tr>\n",
       "      <th>index</th>\n",
       "      <th></th>\n",
       "      <th></th>\n",
       "      <th></th>\n",
       "    </tr>\n",
       "  </thead>\n",
       "  <tbody>\n",
       "    <tr>\n",
       "      <th>29516</th>\n",
       "      <td>341016.0</td>\n",
       "      <td>377473.606942</td>\n",
       "      <td>233163.209069</td>\n",
       "    </tr>\n",
       "    <tr>\n",
       "      <th>5322</th>\n",
       "      <td>395083.0</td>\n",
       "      <td>377473.606942</td>\n",
       "      <td>559887.758587</td>\n",
       "    </tr>\n",
       "    <tr>\n",
       "      <th>38993</th>\n",
       "      <td>722000.0</td>\n",
       "      <td>377473.606942</td>\n",
       "      <td>343748.573629</td>\n",
       "    </tr>\n",
       "    <tr>\n",
       "      <th>11465</th>\n",
       "      <td>171326.0</td>\n",
       "      <td>377473.606942</td>\n",
       "      <td>232829.447233</td>\n",
       "    </tr>\n",
       "    <tr>\n",
       "      <th>21105</th>\n",
       "      <td>296484.0</td>\n",
       "      <td>377473.606942</td>\n",
       "      <td>359292.936445</td>\n",
       "    </tr>\n",
       "    <tr>\n",
       "      <th>...</th>\n",
       "      <td>...</td>\n",
       "      <td>...</td>\n",
       "      <td>...</td>\n",
       "    </tr>\n",
       "    <tr>\n",
       "      <th>50569</th>\n",
       "      <td>713063.0</td>\n",
       "      <td>377473.606942</td>\n",
       "      <td>241060.514492</td>\n",
       "    </tr>\n",
       "    <tr>\n",
       "      <th>12821</th>\n",
       "      <td>292300.0</td>\n",
       "      <td>377473.606942</td>\n",
       "      <td>365331.914059</td>\n",
       "    </tr>\n",
       "    <tr>\n",
       "      <th>31130</th>\n",
       "      <td>521000.0</td>\n",
       "      <td>377473.606942</td>\n",
       "      <td>399777.140343</td>\n",
       "    </tr>\n",
       "    <tr>\n",
       "      <th>35354</th>\n",
       "      <td>343898.0</td>\n",
       "      <td>377473.606942</td>\n",
       "      <td>532699.620565</td>\n",
       "    </tr>\n",
       "    <tr>\n",
       "      <th>11320</th>\n",
       "      <td>68288.0</td>\n",
       "      <td>377473.606942</td>\n",
       "      <td>274324.936627</td>\n",
       "    </tr>\n",
       "  </tbody>\n",
       "</table>\n",
       "<p>8528 rows × 3 columns</p>\n",
       "</div>"
      ],
      "text/plain": [
       "         actual       baseline     poly_preds\n",
       "index                                        \n",
       "29516  341016.0  377473.606942  233163.209069\n",
       "5322   395083.0  377473.606942  559887.758587\n",
       "38993  722000.0  377473.606942  343748.573629\n",
       "11465  171326.0  377473.606942  232829.447233\n",
       "21105  296484.0  377473.606942  359292.936445\n",
       "...         ...            ...            ...\n",
       "50569  713063.0  377473.606942  241060.514492\n",
       "12821  292300.0  377473.606942  365331.914059\n",
       "31130  521000.0  377473.606942  399777.140343\n",
       "35354  343898.0  377473.606942  532699.620565\n",
       "11320   68288.0  377473.606942  274324.936627\n",
       "\n",
       "[8528 rows x 3 columns]"
      ]
     },
     "execution_count": 64,
     "metadata": {},
     "output_type": "execute_result"
    }
   ],
   "source": [
    "test = f.polynomial(test_scaled, y_test)\n",
    "test"
   ]
  },
  {
   "cell_type": "code",
   "execution_count": 65,
   "id": "e73a2447",
   "metadata": {},
   "outputs": [
    {
     "data": {
      "text/plain": [
       "220414.45"
      ]
     },
     "execution_count": 65,
     "metadata": {},
     "output_type": "execute_result"
    }
   ],
   "source": [
    "f.assess(test['actual'], test['poly_preds'])"
   ]
  },
  {
   "cell_type": "code",
   "execution_count": 66,
   "id": "c82b28d3",
   "metadata": {},
   "outputs": [
    {
     "data": {
      "text/plain": [
       "35490.18"
      ]
     },
     "execution_count": 66,
     "metadata": {},
     "output_type": "execute_result"
    }
   ],
   "source": [
    "round(f.assess(test['actual'], test['baseline']) - f.assess(test['actual'], test['poly_preds']), 2)"
   ]
  },
  {
   "cell_type": "markdown",
   "id": "de77a7b3",
   "metadata": {},
   "source": [
    "## Model Summary\n",
    "- Polynomial was the best model but all models were relatively close to each other\n",
    "- The room count feature did not alter the result significantly\n",
    "- $35,000 raw improvement"
   ]
  },
  {
   "cell_type": "markdown",
   "id": "65a4b20a",
   "metadata": {},
   "source": [
    "## Takeaways and Conclusion\n",
    "- The model can be improved upon but the inital improvment is still signficant\n",
    "- My hypothesis were generally correct and the identified feature set did give accurate drivers of home price\n",
    "- Zillow ought to consider location to be among its most important factors in home price"
   ]
  }
 ],
 "metadata": {
  "kernelspec": {
   "display_name": "Python 3 (ipykernel)",
   "language": "python",
   "name": "python3"
  },
  "language_info": {
   "codemirror_mode": {
    "name": "ipython",
    "version": 3
   },
   "file_extension": ".py",
   "mimetype": "text/x-python",
   "name": "python",
   "nbconvert_exporter": "python",
   "pygments_lexer": "ipython3",
   "version": "3.9.13"
  }
 },
 "nbformat": 4,
 "nbformat_minor": 5
}
