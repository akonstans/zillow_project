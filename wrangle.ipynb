{
 "cells": [
  {
   "cell_type": "code",
   "execution_count": 1,
   "id": "e4f6cc0c",
   "metadata": {},
   "outputs": [],
   "source": [
    "import pandas as pd\n",
    "import new_lib as nl\n",
    "import os\n",
    "import env"
   ]
  },
  {
   "cell_type": "code",
   "execution_count": 11,
   "id": "b449fe52",
   "metadata": {},
   "outputs": [],
   "source": [
    "def acquire_zillow():\n",
    "    if os.path.isfile('zillow.csv'):\n",
    "        zil = pd.read_csv('zillow.csv', index_col= 0)\n",
    "    else:\n",
    "        zil = nl.connect('zillow', 'zillow.csv', '''SELECT * FROM properties_2017 as pr\n",
    "JOIN predictions_2017 AS pe ON pr.parcelid = pe.parcelid\n",
    "JOIN propertylandusetype AS l ON pr.propertylandusetypeid = l.propertylandusetypeid\n",
    "WHERE pe.transactiondate >= 01-01-2017 AND l.propertylandusetypeid = 261;''')\n",
    "    return zil"
   ]
  },
  {
   "cell_type": "code",
   "execution_count": 13,
   "id": "f591f967",
   "metadata": {},
   "outputs": [],
   "source": [
    "def prep_zillow(zil):\n",
    "    zil = zil.rename(columns = {'bedroomcnt': 'bedrooms', 'bathroomcnt': 'bathrooms', \n",
    "                            'calculatedfinishedsquarefeet': 'square_footage', \n",
    "                            'taxvaluedollarcnt': 'tax_value', 'taxamount': 'tax'})\n",
    "    zil = zil[['id', 'bedrooms', 'bathrooms', 'square_footage', 'tax_value', 'yearbuilt', \n",
    "           'tax', 'fips']]\n",
    "    # getting dataframe into the right subset\n",
    "    zil = zil.dropna()\n",
    "    zil = zil.reset_index()\n",
    "    zil = zil.drop(columns = 'index')\n",
    "    zil.yearbuilt = zil.yearbuilt.astype(int)\n",
    "    zil.index.name = 'index'\n",
    "    return zil"
   ]
  },
  {
   "cell_type": "code",
   "execution_count": 16,
   "id": "70d3d70d",
   "metadata": {},
   "outputs": [],
   "source": [
    "def wrangle_zillow():\n",
    "    zil = prep_zillow(acquire_zillow())\n",
    "    zil = nl.remove_outliers(zil)\n",
    "    return zil"
   ]
  },
  {
   "cell_type": "code",
   "execution_count": null,
   "id": "cbcd0492",
   "metadata": {},
   "outputs": [],
   "source": []
  }
 ],
 "metadata": {
  "kernelspec": {
   "display_name": "Python 3 (ipykernel)",
   "language": "python",
   "name": "python3"
  },
  "language_info": {
   "codemirror_mode": {
    "name": "ipython",
    "version": 3
   },
   "file_extension": ".py",
   "mimetype": "text/x-python",
   "name": "python",
   "nbconvert_exporter": "python",
   "pygments_lexer": "ipython3",
   "version": "3.9.13"
  }
 },
 "nbformat": 4,
 "nbformat_minor": 5
}
